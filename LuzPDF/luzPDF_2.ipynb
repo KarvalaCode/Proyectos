{
 "cells": [
  {
   "cell_type": "code",
   "execution_count": 1,
   "metadata": {},
   "outputs": [],
   "source": [
    "# Intalar pymupdf\n",
    "# %pip install pymupdf\n",
    "\n",
    "#importar fitz para usar pymupdf (fitz es pymupdf)\n",
    "import fitz  "
   ]
  },
  {
   "cell_type": "code",
   "execution_count": 2,
   "metadata": {},
   "outputs": [],
   "source": [
    "# Instalar e importar la biblioteca pendulum para trabajar con fechas\n",
    "# %pip install pendulum\n",
    "\n",
    "import pendulum\n",
    "\n",
    "# Definir timezone e idioma en la biblioteca pendulum\n",
    "\n",
    "tz = pendulum.timezone('Europe/Paris')\n",
    "pendulum.set_locale('es')"
   ]
  },
  {
   "cell_type": "code",
   "execution_count": 22,
   "metadata": {},
   "outputs": [],
   "source": [
    "# Importar regex\n",
    "import re"
   ]
  },
  {
   "cell_type": "code",
   "execution_count": 24,
   "metadata": {},
   "outputs": [],
   "source": [
    "# Intalar e importar la biblioteca para trabajar con codigos postales\n",
    "# %pip install pgeocode\n",
    "\n",
    "import pgeocode"
   ]
  },
  {
   "cell_type": "code",
   "execution_count": 3,
   "metadata": {},
   "outputs": [],
   "source": [
    "def formato_fecha(fecha):\n",
    "    dt = ''\n",
    "    if '/' in fecha:\n",
    "        dt = pendulum.from_format(fecha, 'DD/MM/YYYY')\n",
    "    elif 'de' in fecha:\n",
    "        dt = pendulum.from_format(fecha.replace(' de', ''), 'DD MMMM YYYY')\n",
    "    try:\n",
    "        dt_final = dt.format('DD.MM.YYYY')\n",
    "    except Exception:\n",
    "        dt_final = 'fecha'  \n",
    "    return dt_final    \n"
   ]
  },
  {
   "cell_type": "code",
   "execution_count": 4,
   "metadata": {},
   "outputs": [
    {
     "name": "stdout",
     "output_type": "stream",
     "text": [
      "['Página 1 / 2 \\nGDF SUEZ TRADING \\nCIF BE0835490593 \\nDomicilio social: 1, PLACE SAMUEL DE CHAMPLAIN (COURBEVOIE), 92400 \\n- Extranjero \\nRemite: GDF SUEZ TRADING Apartado de Correos XXXXX 92400 PARIS (Francia) \\nNIEVES FRÍAS SARDINAS \\n \\nCalle los Jabalíes \\n \\n43595 Prat de Comte \\nDocumento emitido por GDF SUEZ TRADING – 1, PLACE SAMUEL DE CHAMPLAIN (COURBEVOIE), 92400 - Extranjero; inscrita en el Registro Mercantil de Extranjero, tomo 15716, folio 34, sección 2, hoja número M-95971, inscripción 47 - CIF \\nBE0835490593 \\nINFORMACIÓN DEL CONSUMO ELÉCTRICO \\nEVOLUCIÓN DE CONSUMO \\n100 \\n \\n \\n75 \\n \\n \\n50 \\n \\n \\n25 \\n \\n \\nkWh \\nJn.  \\nJl.   Ag.   St.   Oc.  Nv.  Dc.   En.   Fb.   Mr.  Ab.    My.     Jn.   Jl.   Ag. \\n18  \\n18  18   18  18   18   18   19   19   19   19   19   19   19  19 \\n \\n \\n \\n \\n \\nSu consumo medio diario en este último periodo facturado ha sido: 0,XX € \\nSu consumo medio diario en los últimos 14 meses ha sido: 0,XX € \\nSu consumo acumulado del último año ha sido de XXX kWh \\n \\n \\nConsumo en el \\nperiodo \\nLectura anterior: real \\n \\n(06 de marzo de 2014) \\n \\n6584 kWh \\nLectura actual: real  \\n(05 de abril de 2014) \\n \\n6829 kWh \\n \\nConsumo en el periodo \\n \\n245 kWh \\n \\n \\n \\n  \\n \\n \\n \\n \\n \\n \\n \\n \\n \\n \\n \\n \\n \\n \\n \\n \\n \\n \\n \\n \\n \\n \\n \\n \\n \\n \\n \\n \\n \\n \\n \\n \\n \\n \\n \\nRESUMEN \\n \\nPor potencia contratada \\nPor energía consumida \\nImpuesto electricidad \\nAlquiler equipos medida y control \\n \\nIVA \\nTOTAL IMPORTE FACTURA: \\nDATOS DE LA FACTURA DE ELECTRICIDAD \\nIMPORTE FACTURA: 90,70 € \\nNº Factura: I9805082082 emitida el 07 de abril de 2014 \\n \\nPeriodo de consumo: 06 de marzo de 2014 a 05 de abril de 2014 \\n \\nFecha de cargo: 10 de abril de 2014 \\nReferencia del contrato de suministro: 3862302500579 \\nDATOS DEL CONTRATO \\nTitular: NIEVES FRÍAS SARDINAS \\nNIF: 68623415V \\nDirección de suministro: Calle los Jabalíes 43595 Prat de Comte \\nDirección fiscal: Calle los Jabalíes 43595  Prat de Comte \\nTIPO DE CONTRATO: PVPC sin discriminación horaria. \\nTIPO DE CONTADOR: Contador Intelig. Facturación por consumo real horario. \\nNº contador: 799889488 \\nPeaje de acceso: 2.0A \\nPotencia contratada: 2,43 kW \\nReferencia del contrato de suministro  ( GDF SUEZ TRADING): 3862302500579 \\n \\nReferencia del contrato de acceso (ALCONERA DE ELECTRICIDAD SL): \\n545480663341 \\nFecha final contrato: 05 de abril de 2014 (renovación anual automática) \\nFecha emisión factura: 07 de abril de 2014 \\nCódigo unificado de punto de suministro CUPS: ES3414133327228722AFAR \\n \\nForma de pago: Domiciliada \\nEntidad: Caixa Popular-Caixa Rural, S. Coop. de Crédito V. \\nIBAN: ES31593209899617334*****   Ocultos para su seguridad \\nBIC: XXXMMXXX          Código de mandato: E79817696327813168250184293 \\n \\n \\nAtención al cliente (GDF SUEZ TRADING):  \\nReclamaciones (GDF SUEZ TRADING): ; www.gdfsuez-\\ntrading.com/en/homepage; fax:  \\nAverías y Urgencias (ALCONERA DE ELECTRICIDAD SL): 041 \\n \\nPuntos de atención cercanos: 1, PLACE SAMUEL DE CHAMPLAIN \\n(COURBEVOIE) 92400 PARIS (Francia) Extranjero \\n \\nPortal de medidas https://alconeradeelectricidad.cide.net/clientes/pvpc  \\n \\nDirección postal reclamaciones (GDF SUEZ TRADING): \\nDepartamento de Reclamaciones, Apdo. de Correos XXXXX – 92400 PARIS \\n(Francia) \\n \\nPara reclamaciones sobre el contrato de suministro o facturaciones podrá dirigirse \\na la Consejería u órgano competente en materia de energía de su Comunidad \\nAutónoma.  \\nAdicionalmente, en el caso de tratarse de una persona física, podrá dirigirse a la \\nConsejería u órgano competente en materia de consumo de su Comunidad \\nAutónoma. \\nAsimismo, podrá acudir a la entidad de resolución alternativa de litigios Sistema \\nArbitral de Consumo en el teléfono correspondiente a dicho organismo. Más \\ninformación en www.gdfsuez-trading.com/en/homepage.  \\nPuede acceder gratuitamente a los datos de la medida horaria que han servido \\npara la facturación a través de su compañía distribuidora. Recuerde que también \\ndispone de dicha información en Mi Área Cliente. \\n \\n \\n8,41 € \\n62,77 € \\n3,64 € \\n0,15 € \\n \\n21% s/74,82 €         15,71 € \\n10% s/0,15 €         0,02 € \\n \\n90,70 € \\n \\n', 'DETALLE DE LA FACTURA \\n \\nFacturación por potencia contratada: Comprende dos conceptos: la facturación por peaje de acceso (resultado de multiplicar los kW \\ncontratados por el precio del término de potencia del peaje de acceso y el número de días del periodo de facturación) y la facturación \\npor margen de comercialización fijo. \\nPeaje acceso potencia \\n2,43 kW x 30 días x 0,106121 €/kW día \\n7,74 € \\nComercialización \\n2,43 kW x 30 días x 0,009147 €/kW día \\n0,67 € \\n \\nFacturación por energía consumida: Comprende dos conceptos: la facturación por peaje de acceso (resultado de multiplicar los kWh \\nconsumidos en el periodo de facturación por el precio del término de energía del peaje de acceso) y la facturación por coste de la \\nenergía (resultado de multiplicar los kWh consumidos por el precio del término del coste horario de energía del PVPC). \\nPeaje acceso energía \\n245 kWh x 0,131718 €/kWh \\n32,27 € \\nCoste energía \\n245 kWh x 0,124486 €/kWh \\n30,50 € \\n \\nImpuesto de electricidad: Impuesto especial al tipo 5,1127 % sobre la facturación de la electricidad suministrada. \\nImpuesto sobre electricidad \\n5,1127% s/71,18 € \\n3,64 € \\nSubtotal \\n74,82 € \\n \\nAlquiler de equipos de medida y control. Precio establecido que se paga por el alquiler de equipos de medida y control. \\nAlquiler equipos medida \\n30 días x 0,004932 €/día \\n0,15 € \\nSubtotal otros conceptos \\n0,15 € \\nIMPORTE TOTAL \\n74,97 € \\nImpuesto de aplicación \\nIVA \\n21% s/74,82 € \\n15,71 € \\n10% s/0,15 € \\n0,02 € \\n \\nTOTAL IMPORTE FACTURA \\n90,70 € \\n \\n \\nPrecios de los términos del peaje de acceso publicados en la Orden IET/107/2014, de 31 de enero (BOE de 1 de febrero de 2014). PVPC calculado según Real Decreto 216/2014, \\nde 28 de marzo (BOE de 29 de marzo de 2014). Margen de comercialización fijo publicado en el Real Decreto 216/2014, de 28 de marzo (BOE de 29 de marzo de 2014). Precio de \\nlos equipos de medida y control establecido en la Orden IET/1491/2013, de 1 de agosto (BOE de 3 de agosto de 2013). \\n \\n \\n \\nPágina 2 / 2 \\nGDF SUEZ TRADING se ha adherido al Sistema Arbitral de Consumo, siguiendo la política de máximas garantías, transparencia y compromiso en \\nla relación con los consumidores. Para ampliar información sobre los asuntos objeto de arbitraje y \\nsu procedimiento, estamos a su disposición \\nen el Teléfono del Cliente  y en  www.gdfsuez-trading.com/en/homepage. \\nLe informamos que de acuerdo con el RD 897/2017 de 6 de octubre, han entrado en vigor unas nuevas condiciones de aplicación del \\nBono Social. La información completa la encontrará accediendo a nuestra página web www.gdfsuez-trading.com/en/homepage.  \\nTal y como establece el art. 22.2 del Real Decreto 216/2014 de 28 de marzo, por el que se establece la metodología de cálculo de los precios \\nvoluntarios para el pequeño consumidor de energía eléctrica y su régimen jurídico, modificado por el Real Decreto-ley 15/2018 de 5 de \\noctubre, de medidas urgentes para la transición energética y protección de los consumidores vulnerables, a continuación le informamos del \\nimporte total que hubiera tenido esta factura en caso de haberse aplicado el resto de modalidades de discriminación horaria asociadas a los \\npeajes de acceso que puede contratar el consumidor con derecho a PVPC: \\n- \\nTarifa de acceso sin discriminación horaria: XX,XX € \\n- \\nTarifa de acceso con discriminación horaria de 2 periodos: XX,XX € \\nl \\nl \\nl \\nDESTINO DEL IMPORTE DE LA FACTURA \\nEl destino del importe de su factura, 90,70 euros, es el siguiente: \\nDetalle de Costes regulados \\nXX,XX € \\nCostes regulados \\n \\nIncentivos a las energías renovables, \\ncogeneración y residuos \\n \\nCoste de redes de transporte y \\ndistribución \\n \\nOtros costes regulados \\nX,XX € \\nCoste de producción de \\nX,XX € \\nelectricidad y margen \\nImpuestos aplicados \\nde comercialización \\n \\n \\nA los importes indicados en el diagrama debe añadirse, en su caso, el importe del alquiler de los equipos de medida y control. \\n \\n \\n \\n \\n \\nX,XX € \\n \\n \\n \\nX,XX € \\n \\nX,XX € \\n \\n \\n \\n \\n \\n \\n \\n \\n \\n \\n \\n \\n \\n \\n \\n \\n \\n']\n"
     ]
    }
   ],
   "source": [
    "# Extraer el texto de cada página como string en una lista \n",
    "file = fitz.open(\"pdfs/factura_555.pdf\")\n",
    "pymupdf_text = []\n",
    "\n",
    "for page in file:\n",
    "    pymupdf_text.append(page.get_text())\n",
    "\n",
    "print(pymupdf_text)    "
   ]
  },
  {
   "cell_type": "code",
   "execution_count": 5,
   "metadata": {},
   "outputs": [
    {
     "data": {
      "text/plain": [
       "\" En caso de necesitar el texto de todas las páginas del pdf \\nlineas_pdf = []\\nfor x in range(len(pymupdf_text)):\\n    lineas = pymupdf_text[x].split('\\n')\\n    lineas_pdf.append(lineas)\\nlineas_pdf \\n\""
      ]
     },
     "execution_count": 5,
     "metadata": {},
     "output_type": "execute_result"
    }
   ],
   "source": [
    "\"\"\" En caso de necesitar el texto de todas las páginas del pdf \n",
    "lineas_pdf = []\n",
    "for x in range(len(pymupdf_text)):\n",
    "    lineas = pymupdf_text[x].split('\\n')\n",
    "    lineas_pdf.append(lineas)\n",
    "lineas_pdf \n",
    "\"\"\" "
   ]
  },
  {
   "cell_type": "code",
   "execution_count": 6,
   "metadata": {},
   "outputs": [],
   "source": [
    "# Crear el diccionario que se convertirá en el archivo JSON final con los datos a conseguir\n",
    "diccionario_final = {\n",
    "    \"nombre_cliente\": \"\",\n",
    "    \"dni_cliente\": \"\",\n",
    "    \"calle_cliente\": \"\",\n",
    "    \"cp_cliente\": \"\",\n",
    "    \"población_cliente\": \"\",\n",
    "    \"provincia_cliente\": \"\",\n",
    "    \"nombre_comercializadora\": \"\",\n",
    "    \"cif_comercializadora\": \"\",\n",
    "    \"dirección_comercializadora\": \"\",\n",
    "    \"cp_comercializadora\": \"\",\n",
    "    \"población_comercializadora\": \"\",\n",
    "    \"provincia_comercializadora\": \"\",\n",
    "    \"número_factura\": \"\",\n",
    "    \"inicio_periodo\": \"\",\n",
    "    \"fin_periodo\": \"\",\n",
    "    \"importe_factura\": \"\",\n",
    "    \"fecha_cargo\": \"\",\n",
    "    \"consumo_periodo\": \"\",\n",
    "    \"potencia_contratada\": \"\"\n",
    "}"
   ]
  },
  {
   "cell_type": "code",
   "execution_count": 7,
   "metadata": {},
   "outputs": [],
   "source": [
    "# Extraer el texto de la primera página del pdf (dónde está toda la información necesaria)\n",
    "lineas_pag1 = pymupdf_text[0].split('\\n')"
   ]
  },
  {
   "cell_type": "code",
   "execution_count": 8,
   "metadata": {},
   "outputs": [
    {
     "data": {
      "text/plain": [
       "{'otro1': 'Página 1 / 2',\n",
       " 'otro2': 'GDF SUEZ TRADING',\n",
       " 'otro3': 'CIF BE0835490593',\n",
       " 'Domicilio social': '1, PLACE SAMUEL DE CHAMPLAIN (COURBEVOIE), 92400',\n",
       " 'otro4': '- Extranjero',\n",
       " 'Remite': 'GDF SUEZ TRADING Apartado de Correos XXXXX 92400 PARIS (Francia)',\n",
       " 'otro5': 'NIEVES FRÍAS SARDINAS',\n",
       " 'otro6': 'Calle los Jabalíes',\n",
       " 'otro7': '43595 Prat de Comte',\n",
       " 'otro8': 'Documento emitido por GDF SUEZ TRADING – 1, PLACE SAMUEL DE CHAMPLAIN (COURBEVOIE), 92400 - Extranjero; inscrita en el Registro Mercantil de Extranjero, tomo 15716, folio 34, sección 2, hoja número M-95971, inscripción 47 - CIF',\n",
       " 'otro9': 'BE0835490593',\n",
       " 'otro10': 'INFORMACIÓN DEL CONSUMO ELÉCTRICO',\n",
       " 'otro11': 'EVOLUCIÓN DE CONSUMO',\n",
       " 'otro12': '100',\n",
       " 'otro13': '75',\n",
       " 'otro14': '50',\n",
       " 'otro15': '25',\n",
       " 'otro16': 'kWh',\n",
       " 'otro17': 'Jn.',\n",
       " 'otro18': 'Jl.   Ag.   St.   Oc.  Nv.  Dc.   En.   Fb.   Mr.  Ab.    My.     Jn.   Jl.   Ag.',\n",
       " 'otro19': '18',\n",
       " 'otro20': '18  18   18  18   18   18   19   19   19   19   19   19   19  19',\n",
       " 'Su consumo medio diario en este último periodo facturado ha sido': '0,XX €',\n",
       " 'Su consumo medio diario en los últimos 14 meses ha sido': '0,XX €',\n",
       " 'otro21': 'Su consumo acumulado del último año ha sido de XXX kWh',\n",
       " 'otro22': 'Consumo en el',\n",
       " 'otro23': 'periodo',\n",
       " 'Lectura anterior': 'real',\n",
       " 'otro24': '(06 de marzo de 2014)',\n",
       " 'otro25': '6584 kWh',\n",
       " 'Lectura actual': 'real',\n",
       " 'otro26': '(05 de abril de 2014)',\n",
       " 'otro27': '6829 kWh',\n",
       " 'otro28': 'Consumo en el periodo',\n",
       " 'otro29': '245 kWh',\n",
       " 'otro30': 'RESUMEN',\n",
       " 'otro31': 'Por potencia contratada',\n",
       " 'otro32': 'Por energía consumida',\n",
       " 'otro33': 'Impuesto electricidad',\n",
       " 'otro34': 'Alquiler equipos medida y control',\n",
       " 'otro35': 'IVA',\n",
       " 'TOTAL IMPORTE FACTURA': '',\n",
       " 'otro36': 'DATOS DE LA FACTURA DE ELECTRICIDAD',\n",
       " 'IMPORTE FACTURA': '90,70 €',\n",
       " 'Nº Factura': 'I9805082082 emitida el 07 de abril de 2014',\n",
       " 'Periodo de consumo': '06 de marzo de 2014 a 05 de abril de 2014',\n",
       " 'Fecha de cargo': '10 de abril de 2014',\n",
       " 'Referencia del contrato de suministro': '3862302500579',\n",
       " 'otro37': 'DATOS DEL CONTRATO',\n",
       " 'Titular': 'NIEVES FRÍAS SARDINAS',\n",
       " 'NIF': '68623415V',\n",
       " 'Dirección de suministro': 'Calle los Jabalíes 43595 Prat de Comte',\n",
       " 'Dirección fiscal': 'Calle los Jabalíes 43595  Prat de Comte',\n",
       " 'TIPO DE CONTRATO': 'PVPC sin discriminación horaria.',\n",
       " 'TIPO DE CONTADOR': 'Contador Intelig. Facturación por consumo real horario.',\n",
       " 'Nº contador': '799889488',\n",
       " 'Peaje de acceso': '2.0A',\n",
       " 'Potencia contratada': '2,43 kW',\n",
       " 'Referencia del contrato de suministro  ( GDF SUEZ TRADING)': '3862302500579',\n",
       " 'Referencia del contrato de acceso (ALCONERA DE ELECTRICIDAD SL)': '',\n",
       " 'otro38': '545480663341',\n",
       " 'Fecha final contrato': '05 de abril de 2014 (renovación anual automática)',\n",
       " 'Fecha emisión factura': '07 de abril de 2014',\n",
       " 'Código unificado de punto de suministro CUPS': 'ES3414133327228722AFAR',\n",
       " 'Forma de pago': 'Domiciliada',\n",
       " 'Entidad': 'Caixa Popular-Caixa Rural, S. Coop. de Crédito V.',\n",
       " 'IBAN': 'ES31593209899617334*****   Ocultos para su seguridad',\n",
       " 'BIC': 'XXXMMXXX          Código de mandato: E79817696327813168250184293',\n",
       " 'Atención al cliente (GDF SUEZ TRADING)': '',\n",
       " 'Reclamaciones (GDF SUEZ TRADING)': '; www.gdfsuez-',\n",
       " 'trading.com/en/homepage; fax': '',\n",
       " 'Averías y Urgencias (ALCONERA DE ELECTRICIDAD SL)': '041',\n",
       " 'Puntos de atención cercanos': '1, PLACE SAMUEL DE CHAMPLAIN',\n",
       " 'otro39': '(COURBEVOIE) 92400 PARIS (Francia) Extranjero',\n",
       " 'Portal de medidas https': '//alconeradeelectricidad.cide.net/clientes/pvpc',\n",
       " 'Dirección postal reclamaciones (GDF SUEZ TRADING)': '',\n",
       " 'otro40': 'Departamento de Reclamaciones, Apdo. de Correos XXXXX – 92400 PARIS',\n",
       " 'otro41': '(Francia)',\n",
       " 'otro42': 'Para reclamaciones sobre el contrato de suministro o facturaciones podrá dirigirse',\n",
       " 'otro43': 'a la Consejería u órgano competente en materia de energía de su Comunidad',\n",
       " 'otro44': 'Autónoma.',\n",
       " 'otro45': 'Adicionalmente, en el caso de tratarse de una persona física, podrá dirigirse a la',\n",
       " 'otro46': 'Consejería u órgano competente en materia de consumo de su Comunidad',\n",
       " 'otro47': 'Autónoma.',\n",
       " 'otro48': 'Asimismo, podrá acudir a la entidad de resolución alternativa de litigios Sistema',\n",
       " 'otro49': 'Arbitral de Consumo en el teléfono correspondiente a dicho organismo. Más',\n",
       " 'otro50': 'información en www.gdfsuez-trading.com/en/homepage.',\n",
       " 'otro51': 'Puede acceder gratuitamente a los datos de la medida horaria que han servido',\n",
       " 'otro52': 'para la facturación a través de su compañía distribuidora. Recuerde que también',\n",
       " 'otro53': 'dispone de dicha información en Mi Área Cliente.',\n",
       " 'otro54': '8,41 €',\n",
       " 'otro55': '62,77 €',\n",
       " 'otro56': '3,64 €',\n",
       " 'otro57': '0,15 €',\n",
       " 'otro58': '21% s/74,82 €         15,71 €',\n",
       " 'otro59': '10% s/0,15 €         0,02 €',\n",
       " 'otro60': '90,70 €'}"
      ]
     },
     "execution_count": 8,
     "metadata": {},
     "output_type": "execute_result"
    }
   ],
   "source": [
    "# Se limpian los datos para eliminar las líneas vacias.\n",
    "# Se crea un diccionario con los apartados del pdf del que se pueden extraer pares key/valor mediante la separación por los ':'.\n",
    "# Se crea una lista con todos los datos para tenerlos ordenados.\n",
    "\n",
    "dict_lineas = {}\n",
    "lista_lineas = []\n",
    "contador = 0\n",
    "for linea in lineas_pag1:\n",
    "    linea = linea.strip()\n",
    "    #Se eliminan lineas vacias (o de solo un espacio)\n",
    "    if linea != '' and linea != ' ':\n",
    "        lista_lineas.append(linea)\n",
    "        #Se dividen las líneas por el primer ':' para separarlas en Key/valor en el diccionario\n",
    "        if ':' in linea:\n",
    "            lista_linea = linea.split(':', 1)\n",
    "            dict_lineas[lista_linea[0]] = lista_linea[1].strip() \n",
    "        else:\n",
    "            # En caso de no contar con ':' en la línea, se añade al diccionario con la key?otro' más un número incremental\n",
    "            contador += 1\n",
    "            dict_lineas[f'otro{contador}'] = linea\n",
    "\n",
    "dict_lineas         "
   ]
  },
  {
   "cell_type": "code",
   "execution_count": 9,
   "metadata": {},
   "outputs": [
    {
     "data": {
      "text/plain": [
       "['Página 1 / 2',\n",
       " 'GDF SUEZ TRADING',\n",
       " 'CIF BE0835490593',\n",
       " 'Domicilio social: 1, PLACE SAMUEL DE CHAMPLAIN (COURBEVOIE), 92400',\n",
       " '- Extranjero',\n",
       " 'Remite: GDF SUEZ TRADING Apartado de Correos XXXXX 92400 PARIS (Francia)',\n",
       " 'NIEVES FRÍAS SARDINAS',\n",
       " 'Calle los Jabalíes',\n",
       " '43595 Prat de Comte',\n",
       " 'Documento emitido por GDF SUEZ TRADING – 1, PLACE SAMUEL DE CHAMPLAIN (COURBEVOIE), 92400 - Extranjero; inscrita en el Registro Mercantil de Extranjero, tomo 15716, folio 34, sección 2, hoja número M-95971, inscripción 47 - CIF',\n",
       " 'BE0835490593',\n",
       " 'INFORMACIÓN DEL CONSUMO ELÉCTRICO',\n",
       " 'EVOLUCIÓN DE CONSUMO',\n",
       " '100',\n",
       " '75',\n",
       " '50',\n",
       " '25',\n",
       " 'kWh',\n",
       " 'Jn.',\n",
       " 'Jl.   Ag.   St.   Oc.  Nv.  Dc.   En.   Fb.   Mr.  Ab.    My.     Jn.   Jl.   Ag.',\n",
       " '18',\n",
       " '18  18   18  18   18   18   19   19   19   19   19   19   19  19',\n",
       " 'Su consumo medio diario en este último periodo facturado ha sido: 0,XX €',\n",
       " 'Su consumo medio diario en los últimos 14 meses ha sido: 0,XX €',\n",
       " 'Su consumo acumulado del último año ha sido de XXX kWh',\n",
       " 'Consumo en el',\n",
       " 'periodo',\n",
       " 'Lectura anterior: real',\n",
       " '(06 de marzo de 2014)',\n",
       " '6584 kWh',\n",
       " 'Lectura actual: real',\n",
       " '(05 de abril de 2014)',\n",
       " '6829 kWh',\n",
       " 'Consumo en el periodo',\n",
       " '245 kWh',\n",
       " 'RESUMEN',\n",
       " 'Por potencia contratada',\n",
       " 'Por energía consumida',\n",
       " 'Impuesto electricidad',\n",
       " 'Alquiler equipos medida y control',\n",
       " 'IVA',\n",
       " 'TOTAL IMPORTE FACTURA:',\n",
       " 'DATOS DE LA FACTURA DE ELECTRICIDAD',\n",
       " 'IMPORTE FACTURA: 90,70 €',\n",
       " 'Nº Factura: I9805082082 emitida el 07 de abril de 2014',\n",
       " 'Periodo de consumo: 06 de marzo de 2014 a 05 de abril de 2014',\n",
       " 'Fecha de cargo: 10 de abril de 2014',\n",
       " 'Referencia del contrato de suministro: 3862302500579',\n",
       " 'DATOS DEL CONTRATO',\n",
       " 'Titular: NIEVES FRÍAS SARDINAS',\n",
       " 'NIF: 68623415V',\n",
       " 'Dirección de suministro: Calle los Jabalíes 43595 Prat de Comte',\n",
       " 'Dirección fiscal: Calle los Jabalíes 43595  Prat de Comte',\n",
       " 'TIPO DE CONTRATO: PVPC sin discriminación horaria.',\n",
       " 'TIPO DE CONTADOR: Contador Intelig. Facturación por consumo real horario.',\n",
       " 'Nº contador: 799889488',\n",
       " 'Peaje de acceso: 2.0A',\n",
       " 'Potencia contratada: 2,43 kW',\n",
       " 'Referencia del contrato de suministro  ( GDF SUEZ TRADING): 3862302500579',\n",
       " 'Referencia del contrato de acceso (ALCONERA DE ELECTRICIDAD SL):',\n",
       " '545480663341',\n",
       " 'Fecha final contrato: 05 de abril de 2014 (renovación anual automática)',\n",
       " 'Fecha emisión factura: 07 de abril de 2014',\n",
       " 'Código unificado de punto de suministro CUPS: ES3414133327228722AFAR',\n",
       " 'Forma de pago: Domiciliada',\n",
       " 'Entidad: Caixa Popular-Caixa Rural, S. Coop. de Crédito V.',\n",
       " 'IBAN: ES31593209899617334*****   Ocultos para su seguridad',\n",
       " 'BIC: XXXMMXXX          Código de mandato: E79817696327813168250184293',\n",
       " 'Atención al cliente (GDF SUEZ TRADING):',\n",
       " 'Reclamaciones (GDF SUEZ TRADING): ; www.gdfsuez-',\n",
       " 'trading.com/en/homepage; fax:',\n",
       " 'Averías y Urgencias (ALCONERA DE ELECTRICIDAD SL): 041',\n",
       " 'Puntos de atención cercanos: 1, PLACE SAMUEL DE CHAMPLAIN',\n",
       " '(COURBEVOIE) 92400 PARIS (Francia) Extranjero',\n",
       " 'Portal de medidas https://alconeradeelectricidad.cide.net/clientes/pvpc',\n",
       " 'Dirección postal reclamaciones (GDF SUEZ TRADING):',\n",
       " 'Departamento de Reclamaciones, Apdo. de Correos XXXXX – 92400 PARIS',\n",
       " '(Francia)',\n",
       " 'Para reclamaciones sobre el contrato de suministro o facturaciones podrá dirigirse',\n",
       " 'a la Consejería u órgano competente en materia de energía de su Comunidad',\n",
       " 'Autónoma.',\n",
       " 'Adicionalmente, en el caso de tratarse de una persona física, podrá dirigirse a la',\n",
       " 'Consejería u órgano competente en materia de consumo de su Comunidad',\n",
       " 'Autónoma.',\n",
       " 'Asimismo, podrá acudir a la entidad de resolución alternativa de litigios Sistema',\n",
       " 'Arbitral de Consumo en el teléfono correspondiente a dicho organismo. Más',\n",
       " 'información en www.gdfsuez-trading.com/en/homepage.',\n",
       " 'Puede acceder gratuitamente a los datos de la medida horaria que han servido',\n",
       " 'para la facturación a través de su compañía distribuidora. Recuerde que también',\n",
       " 'dispone de dicha información en Mi Área Cliente.',\n",
       " '8,41 €',\n",
       " '62,77 €',\n",
       " '3,64 €',\n",
       " '0,15 €',\n",
       " '21% s/74,82 €         15,71 €',\n",
       " '10% s/0,15 €         0,02 €',\n",
       " '90,70 €']"
      ]
     },
     "execution_count": 9,
     "metadata": {},
     "output_type": "execute_result"
    }
   ],
   "source": [
    "lista_lineas"
   ]
  },
  {
   "cell_type": "code",
   "execution_count": 15,
   "metadata": {},
   "outputs": [
    {
     "name": "stdout",
     "output_type": "stream",
     "text": [
      "['0,XX €']\n",
      "IMPORTE FACTURA: 90,70 €\n",
      "['06 de marzo de 2014', '05 de abril de 2014']\n"
     ]
    }
   ],
   "source": [
    "# Se obtienen todos los datos que se pueden extraer mediante las llaves del diccionario \n",
    "for key in dict_lineas.keys():\n",
    "    if 'importe' in key.lower() and 'factura' in key.lower() and 'total' not in key.lower():\n",
    "        print(f'{key}: {dict_lineas[key]}')\n",
    "        diccionario_final[\"importe_factura\"] = dict_lineas[key].split()[0]\n",
    "    if 'nº' in key.lower():\n",
    "        diccionario_final[\"número_factura\"] = dict_lineas[key]\n",
    "    if 'periodo' in key.lower():\n",
    "        fechas_consumo = dict_lineas[key].split(' a ')\n",
    "        print(fechas_consumo)\n",
    "        diccionario_final[\"inicio_periodo\"] = formato_fecha(fechas_consumo[0].strip())\n",
    "        diccionario_final[\"fin_periodo\"] = formato_fecha(fechas_consumo[-1].strip())\n",
    "    if 'fecha' in key.lower() and 'cargo' in key.lower():\n",
    "        diccionario_final[\"fecha_cargo\"] = formato_fecha(dict_lineas[key])\n",
    "    if 'potencia' in key.lower():\n",
    "        diccionario_final[\"potencia_contratada\"] = dict_lineas[key].split()[0]     \n",
    "    if 'titular' in key.lower():\n",
    "        diccionario_final[\"nombre_cliente\"] = dict_lineas[key]     \n",
    "    if 'domicilio social' in key.lower():\n",
    "        diccionario_final[\"provincia_comercializadora\"] = dict_lineas[key].split('-')[-1].strip()   \n",
    "\n",
    "# Se duplica el for en el caso del cif y el Nif para poder romper el loop después de la primera localización y asegurarnos que es el de la comercializadora y el cliente respectivamente\n",
    "\n",
    "for key in dict_lineas.keys():\n",
    "    if 'cif' in key.lower():\n",
    "        diccionario_final[\"cif_comercializadora\"] = dict_lineas[key]  \n",
    "        break \n",
    "\n",
    "for key in dict_lineas.keys():\n",
    "    if 'nif' in key.lower():\n",
    "        diccionario_final[\"dni_cliente\"] = dict_lineas[key]  \n",
    "        break \n",
    "\n"
   ]
  },
  {
   "cell_type": "code",
   "execution_count": 29,
   "metadata": {},
   "outputs": [
    {
     "name": "stdout",
     "output_type": "stream",
     "text": [
      "[' Calle los Jabalíes ', '43595', ' Prat de Comte']\n"
     ]
    }
   ],
   "source": [
    "# Mediante un enumerate extraemos todos los datos que sabemos que estan cerca unos de otros en la lista.\n",
    "lista_consumo = []\n",
    "lista_direccion = []\n",
    "for indice, linea in enumerate(lista_lineas):\n",
    "    if linea.lower() == 'consumo':\n",
    "        lista_consumo.append(linea)\n",
    "        lista_consumo.append(lista_lineas[indice+1]) \n",
    "        lista_consumo.append(lista_lineas[indice+2])\n",
    "\n",
    "        for elemento in lista_consumo:\n",
    "            if 'kwh' in elemento.lower():\n",
    "                try:\n",
    "                    diccionario_final[\"consumo_periodo\"] = int(elemento.split()[0])\n",
    "                except Exception:\n",
    "                    continue    \n",
    "    if 'dirección de suministro' in linea.lower():\n",
    "        try:\n",
    "            lista_direccion.append(linea) \n",
    "            lista_direccion.append(lista_lineas[indice+1]) \n",
    "            direccion_suministro = ' '.join(lista_direccion)\n",
    "            direccion_dividir = direccion_suministro.split(':', 1)\n",
    "            direccion = direccion_dividir[1].strip().split(',')\n",
    "            diccionario_final[\"calle_cliente\"] = direccion[0].strip() \n",
    "            diccionario_final[\"población_cliente\"] = direccion[1].strip()  \n",
    "        except Exception:\n",
    "            direccion_entera = linea.split(':', 1)[1]\n",
    "            direccion = re.split(r\"(\\d{5})\", direccion_entera)\n",
    "            diccionario_final[\"calle_cliente\"] = direccion[0].strip() \n",
    "            diccionario_final[\"población_cliente\"] = direccion[2].strip()  \n",
    "            \n",
    "# Se duplican los bucles for para poder romperlos después de la primera aparición en aquella información repetida a lo largo del pdf y que puede dar problemas.\n",
    "\n",
    "for indice, linea in enumerate(lista_lineas):\n",
    "    if diccionario_final[\"población_cliente\"] in linea and len(linea) > len(diccionario_final[\"población_cliente\"]):\n",
    "        cp = linea.split()[0]\n",
    "        try:\n",
    "            cp_cliente = str(int(cp.strip()))\n",
    "        except Exception:\n",
    "            continue    \n",
    "        diccionario_final[\"cp_cliente\"] = cp_cliente\n",
    "        break\n",
    "\n",
    "nomi = pgeocode.Nominatim('es')\n",
    "diccionario_final[\"provincia_cliente\"] = nomi.query_postal_code(cp_cliente)['county_name']\n",
    "\n",
    "for indice, linea in enumerate(lista_lineas):\n",
    "    if diccionario_final[\"cif_comercializadora\"] in linea:\n",
    "        diccionario_final[\"nombre_comercializadora\"] = lista_lineas[indice-1]\n",
    "        direccion_comercializadora = lista_lineas[indice+1].split('-')\n",
    "        \n",
    "        diccionario_final[\"dirección_comercializadora\"] = direccion_comercializadora[0].strip()[0:-5].strip()\n",
    "        diccionario_final[\"población_comercializadora\"] = direccion_comercializadora[-1].strip()\n",
    "        diccionario_final[\"cp_comercializadora\"] = direccion_comercializadora[0].strip()[-5:]\n",
    "        break     \n",
    "               "
   ]
  },
  {
   "cell_type": "code",
   "execution_count": 30,
   "metadata": {},
   "outputs": [
    {
     "data": {
      "text/plain": [
       "{'nombre_cliente': 'NIEVES FRÍAS SARDINAS',\n",
       " 'dni_cliente': '68623415V',\n",
       " 'calle_cliente': 'Calle los Jabalíes',\n",
       " 'cp_cliente': '43595',\n",
       " 'población_cliente': 'Prat de Comte',\n",
       " 'provincia_cliente': 'Tarragona',\n",
       " 'nombre_comercializadora': '90,70 €',\n",
       " 'cif_comercializadora': '',\n",
       " 'dirección_comercializadora': 'GDF SUEZ TR',\n",
       " 'cp_comercializadora': 'ADING',\n",
       " 'población_comercializadora': 'GDF SUEZ TRADING',\n",
       " 'provincia_comercializadora': '1, PLACE SAMUEL DE CHAMPLAIN (COURBEVOIE), 92400',\n",
       " 'número_factura': '799889488',\n",
       " 'inicio_periodo': '06.03.2014',\n",
       " 'fin_periodo': '05.04.2014',\n",
       " 'importe_factura': '90,70',\n",
       " 'fecha_cargo': '10.04.2014',\n",
       " 'consumo_periodo': '',\n",
       " 'potencia_contratada': '2,43'}"
      ]
     },
     "execution_count": 30,
     "metadata": {},
     "output_type": "execute_result"
    }
   ],
   "source": [
    "diccionario_final "
   ]
  },
  {
   "cell_type": "code",
   "execution_count": null,
   "metadata": {},
   "outputs": [],
   "source": [
    "import json\n",
    "with open(\"factura_555_meu.json\", \"w\") as fp:\n",
    "    json.dump(diccionario_final, fp, ensure_ascii=False)"
   ]
  }
 ],
 "metadata": {
  "kernelspec": {
   "display_name": "base",
   "language": "python",
   "name": "python3"
  },
  "language_info": {
   "codemirror_mode": {
    "name": "ipython",
    "version": 3
   },
   "file_extension": ".py",
   "mimetype": "text/x-python",
   "name": "python",
   "nbconvert_exporter": "python",
   "pygments_lexer": "ipython3",
   "version": "3.9.7"
  }
 },
 "nbformat": 4,
 "nbformat_minor": 2
}
